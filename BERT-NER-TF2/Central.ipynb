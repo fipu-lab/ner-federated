{
 "cells": [
  {
   "cell_type": "code",
   "execution_count": 1,
   "id": "7a20fbd1",
   "metadata": {},
   "outputs": [
    {
     "name": "stdout",
     "output_type": "stream",
     "text": [
      "Using only CPU\n"
     ]
    }
   ],
   "source": [
    "import os\n",
    "import logging\n",
    "os.environ['TF_CPP_MIN_LOG_LEVEL'] = '3'\n",
    "logging.getLogger('tensorflow').setLevel(logging.FATAL)\n",
    "\n",
    "from dataset.dataset_loader import NerProcessor, FewNERDProcessor, create_tf_dataset_for_client, split_to_tf_datasets, batch_features\n",
    "from utils.fl_utils import *\n",
    "\n",
    "import tensorflow as tf\n",
    "from tqdm.notebook import tqdm\n",
    "\n",
    "import numpy as np\n",
    "\n",
    "from models.model import build_BertNer, MaskedSparseCategoricalCrossentropy\n",
    "from tokenization import FullTokenizer\n",
    "\n",
    "\n",
    "\n",
    "# Pretrained models\n",
    "TINY = 'uncased_L-2_H-128_A-2'\n",
    "TINY_1 = 'uncased_L-4_H-128_A-2'\n",
    "TINY_12 = 'uncased_L-12_H-128_A-2'\n",
    "MINI = 'uncased_L-4_H-256_A-4'\n",
    "SMALL = 'uncased_L-4_H-512_A-8'\n",
    "MEDIUM = 'uncased_L-8_H-512_A-8'\n",
    "BASE = 'uncased_L-12_H-768_A-12'\n",
    "\n",
    "TINY_8_128='uncased_L-8_H-128_A-2'\n",
    "\n",
    "MODEL = os.path.join(\"models\", TINY_12)\n",
    "SEQ_LEN = 128\n",
    "BATCH_SIZE = 32\n",
    "PRETRAINED = False\n",
    "\n",
    "processor = NerProcessor('dataset/conll')\n",
    "# processor = FewNERDProcessor('dataset/few_nerd')\n",
    "tokenizer = FullTokenizer(os.path.join(MODEL, \"vocab.txt\"), True)\n",
    "train_features = processor.get_train_as_features(SEQ_LEN, tokenizer)\n",
    "eval_features = processor.get_test_as_features(SEQ_LEN, tokenizer)\n",
    "\n",
    "\n",
    "def eval_model(model, eval_data, do_print=True):\n",
    "    return evaluate(model, eval_data, \n",
    "                    processor.get_label_map(), \n",
    "                    processor.token_ind('O'), \n",
    "                    processor.token_ind('[SEP]'),\n",
    "                    processor.token_ind('[PAD]'), \n",
    "                    do_print=do_print)\n",
    "    \n",
    "eval_data_batched = batch_features(eval_features, processor.get_labels(), SEQ_LEN, tokenizer, batch_size=64)\n"
   ]
  },
  {
   "cell_type": "markdown",
   "id": "c91ef7b6",
   "metadata": {},
   "source": [
    "# Train single"
   ]
  },
  {
   "cell_type": "code",
   "execution_count": 5,
   "id": "f2c15b14",
   "metadata": {},
   "outputs": [],
   "source": [
    "@tf.function\n",
    "def train_batch(model, x, y):\n",
    "    with tf.GradientTape() as tape:\n",
    "        logits = model(x, training=True)\n",
    "        loss = model.loss(y, logits)\n",
    "    grad = tape.gradient(loss, model.trainable_variables)\n",
    "    model.optimizer.apply_gradients(zip(grad, model.trainable_variables))\n",
    "\n",
    "def train_single(epochs=1, lr=5e-5, batch_size=32, pretrained=True):\n",
    "    model = build_BertNer(MODEL, processor.label_len(), SEQ_LEN)\n",
    "    model.compile(\n",
    "        optimizer=tf.keras.optimizers.Adam(lr),\n",
    "        loss=MaskedSparseCategoricalCrossentropy()) # reduction=tf.keras.losses.Reduction.NONE))\n",
    "    \n",
    "    if pretrained:\n",
    "        restore_model_ckpt(model, MODEL)\n",
    "    \n",
    "    data = split_to_tf_datasets(train_features, 1, batch_size)[0]\n",
    "    for e in range(epochs):\n",
    "        for x, y in tqdm(data, position=0, leave=False, desc=\"Training\"):\n",
    "            train_batch(model, x, y)\n",
    "        eval_model(model, eval_data_batched)\n",
    "    return model"
   ]
  }
 ],
 "metadata": {
  "kernelspec": {
   "display_name": "Python 3",
   "language": "python",
   "name": "python3"
  },
  "language_info": {
   "codemirror_mode": {
    "name": "ipython",
    "version": 3
   },
   "file_extension": ".py",
   "mimetype": "text/x-python",
   "name": "python",
   "nbconvert_exporter": "python",
   "pygments_lexer": "ipython3",
   "version": "3.7.3"
  }
 },
 "nbformat": 4,
 "nbformat_minor": 5
}
